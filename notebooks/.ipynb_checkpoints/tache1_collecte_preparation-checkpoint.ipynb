{
 "cells": [
  {
   "cell_type": "code",
   "execution_count": null,
   "id": "365586bd",
   "metadata": {
    "vscode": {
     "languageId": "plaintext"
    }
   },
   "outputs": [],
   "source": [
    "# ================================\n",
    "# Tâche 1 - Collecte & Préparation\n",
    "# ANIP Challenge : Bénin\n",
    "# ================================\n",
    "\n",
    "import wbdata\n",
    "import pandas as pd\n",
    "import datetime\n",
    "import os\n",
    "\n",
    "# 📂 Créer dossiers si nécessaires\n",
    "os.makedirs(\"datasets/raw\", exist_ok=True)\n",
    "os.makedirs(\"datasets/final\", exist_ok=True)\n",
    "\n",
    "# ================================\n",
    "# 1. Définir indicateurs Banque Mondiale\n",
    "# ================================\n",
    "indicators = {\n",
    "    \"SP.POP.TOTL\": \"population\",     # Population totale\n",
    "    \"NY.GDP.MKTP.CD\": \"gdp_usd\"      # PIB en USD courants\n",
    "}\n",
    "\n",
    "# ================================\n",
    "# 2. Télécharger les données (2000-2023)\n",
    "# ================================\n",
    "data = wbdata.get_dataframe(\n",
    "    indicators,\n",
    "    country=\"BJ\",  # Code ISO du Bénin\n",
    "    data_date=(datetime.datetime(2000, 1, 1), datetime.datetime(2023, 1, 1)),\n",
    "    convert_date=True\n",
    ")\n",
    "\n",
    "# Réinitialiser l’index\n",
    "data.reset_index(inplace=True)\n",
    "\n",
    "# Sauvegarde brute\n",
    "data.to_csv(\"datasets/raw/benin_population_gdp_raw.csv\", index=False)\n",
    "print(\"✅ Données brutes sauvegardées : datasets/raw/benin_population_gdp_raw.csv\")\n",
    "\n",
    "# ================================\n",
    "# 3. Nettoyage des données\n",
    "# ================================\n",
    "df = data.copy()\n",
    "df.rename(columns={\"date\": \"year\"}, inplace=True)\n",
    "\n",
    "# Année en entier\n",
    "df[\"year\"] = pd.to_datetime(df[\"year\"]).dt.year\n",
    "\n",
    "# Supprimer les lignes vides\n",
    "df = df.dropna()\n",
    "\n",
    "# Calcul du PIB par habitant\n",
    "df[\"gdp_per_capita\"] = df[\"gdp_usd\"] / df[\"population\"]\n",
    "\n",
    "# Tri par année\n",
    "df = df.sort_values(\"year\").reset_index(drop=True)\n",
    "\n",
    "# Sauvegarde finale\n",
    "df.to_csv(\"datasets/final/benin_population_gdp.csv\", index=False)\n",
    "print(\"✅ Données nettoyées sauvegardées : datasets/final/benin_population_gdp.csv\")\n",
    "\n",
    "# Aperçu\n",
    "df.head()"
   ]
  }
 ],
 "metadata": {
  "language_info": {
   "name": "python"
  }
 },
 "nbformat": 4,
 "nbformat_minor": 5
}
